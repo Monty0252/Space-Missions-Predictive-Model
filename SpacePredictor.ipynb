{
  "cells": [
    {
      "cell_type": "markdown",
      "metadata": {
        "id": "RxHjjsWLtF6q"
      },
      "source": [
        "from IPython.display import HTML\n",
        "\n",
        "'<strong><font color=\"#ADD8E6\" style=\"font-size: 32px;\">Converting String to Numerical to create a Correlation Matrix for Data Analysis</font></strong>'\n"
      ]
    },
    {
      "cell_type": "code",
      "execution_count": null,
      "metadata": {
        "colab": {
          "base_uri": "https://localhost:8080/",
          "height": 805
        },
        "id": "UQBDwWx3rqAD",
        "outputId": "3140bc75-2308-44dd-a89b-3922eb78be41"
      },
      "outputs": [],
      "source": [
        "import pandas as pd\n",
        "\n",
        "#Reading the file\n",
        "space_data=pd.read_csv(\"DataFiles\\Space_Corrected.csv\")\n",
        "\n",
        "space_data"
      ]
    },
    {
      "cell_type": "code",
      "execution_count": null,
      "metadata": {
        "colab": {
          "base_uri": "https://localhost:8080/"
        },
        "id": "TXdwsDf-OlXm",
        "outputId": "93d09663-4906-4c6a-b03a-615506dbfa55"
      },
      "outputs": [],
      "source": [
        "\n",
        "# Get unique values from the 'Company Name' column\n",
        "unique_companies = space_data['Company Name'].unique()\n",
        "print(unique_companies)\n",
        "print(\"length of the company List: \", len(unique_companies))"
      ]
    },
    {
      "cell_type": "code",
      "execution_count": null,
      "metadata": {
        "id": "nzDKXRU4OU4G"
      },
      "outputs": [],
      "source": [
        "import pandas as pd\n",
        "\n",
        "space_data['Year'] = space_data['Datum'].str.extract(r'(\\d{4})').astype(int)\n",
        "\n",
        "# Removing all rows with a year before 1988\n",
        "space_data = space_data[space_data['Year'] >= 1988]\n",
        "\n",
        "# Dropping the original 'Datum' column as it's no longer needed\n",
        "space_data= space_data.drop(columns=['Datum'])"
      ]
    },
    {
      "cell_type": "code",
      "execution_count": null,
      "metadata": {
        "colab": {
          "base_uri": "https://localhost:8080/"
        },
        "id": "gQ43Jlu9XvxX",
        "outputId": "41e3f060-d6d2-4a96-d04d-979d353d86aa"
      },
      "outputs": [],
      "source": [
        "UniqueYear = space_data['Year'].unique()\n",
        "print(UniqueYear)"
      ]
    },
    {
      "cell_type": "code",
      "execution_count": null,
      "metadata": {
        "colab": {
          "base_uri": "https://localhost:8080/",
          "height": 692
        },
        "id": "ntiGktuKaOE4",
        "outputId": "fc45a7ce-5464-428b-d819-cb3631663f30"
      },
      "outputs": [],
      "source": [
        "space_data.head(10)"
      ]
    },
    {
      "cell_type": "code",
      "execution_count": null,
      "metadata": {
        "colab": {
          "base_uri": "https://localhost:8080/",
          "height": 397
        },
        "id": "niwOkGxXwnCW",
        "outputId": "2e7c4670-ce9f-408b-95e0-92f9680e75d9"
      },
      "outputs": [],
      "source": [
        "data=pd.read_csv(\"DataFiles\\Space_Corrected.csv\")\n",
        "\n",
        "statMap={}\n",
        "data['Status Mission'].unique()\n",
        "i=0\n",
        "for n in data['Status Mission'].unique():\n",
        "  statMap[n]=i\n",
        "  i+=1\n",
        "data['Status Mission']=data['Status Mission'].map(statMap)\n",
        "data.head(5)\n",
        "\n",
        "\n"
      ]
    },
    {
      "cell_type": "code",
      "execution_count": null,
      "metadata": {
        "colab": {
          "base_uri": "https://localhost:8080/",
          "height": 1000
        },
        "id": "DGBibCblxl0_",
        "outputId": "7c6092aa-9ff2-4d22-d25b-cebb42da6644"
      },
      "outputs": [],
      "source": [
        "companyMap={}\n",
        "j=0\n",
        "\n",
        "print(data['Company Name'].unique())\n",
        "for m in data['Company Name'].unique():\n",
        "  companyMap[m]=j\n",
        "  j+=1\n",
        "\n",
        "print(companyMap)\n",
        "data[\"Company Name\"]= data[\"Company Name\"].map(companyMap)\n",
        "data.head(15)"
      ]
    },
    {
      "cell_type": "code",
      "execution_count": null,
      "metadata": {
        "colab": {
          "base_uri": "https://localhost:8080/",
          "height": 1000
        },
        "id": "KtMNWzcfy7M4",
        "outputId": "43479754-b0f8-4be4-a387-8a08920e7288"
      },
      "outputs": [],
      "source": [
        "LocationMap={}\n",
        "k=0\n",
        "\n",
        "for m in data['Location'].unique():\n",
        "  LocationMap[m]=k\n",
        "  k+=1\n",
        "\n",
        "print(LocationMap)\n",
        "data[\"Location\"]= data[\"Location\"].map(LocationMap)\n",
        "data.head(15)"
      ]
    },
    {
      "cell_type": "code",
      "execution_count": null,
      "metadata": {
        "colab": {
          "base_uri": "https://localhost:8080/",
          "height": 641
        },
        "id": "-0sovOTUzVRa",
        "outputId": "1a6ddc97-7bd3-4ad0-8606-786146563b18"
      },
      "outputs": [],
      "source": [
        "dateMap={}\n",
        "l=0\n",
        "for n in data['Datum'].unique():\n",
        "  dateMap[n]=l\n",
        "  l+=1\n",
        "\n",
        "data[\"Datum\"]= data[\"Datum\"].map(dateMap)\n",
        "data.head(15)\n"
      ]
    },
    {
      "cell_type": "code",
      "execution_count": null,
      "metadata": {
        "colab": {
          "base_uri": "https://localhost:8080/",
          "height": 519
        },
        "id": "sotngSqx0F6G",
        "outputId": "97b90c80-61c2-4a99-bbf4-60bfb248e1d6"
      },
      "outputs": [],
      "source": [
        "detailMap={}\n",
        "m=0\n",
        "for t in data['Detail'].unique():\n",
        "  detailMap[t]=m\n",
        "  m+=1\n",
        "\n",
        "data[\"Detail\"]=data[\"Detail\"].map(detailMap)\n",
        "data.head(15)\n"
      ]
    },
    {
      "cell_type": "code",
      "execution_count": null,
      "metadata": {
        "colab": {
          "base_uri": "https://localhost:8080/",
          "height": 537
        },
        "id": "ncs78h6H0oXr",
        "outputId": "4dd481b5-61d0-44b5-9bbf-490607934566"
      },
      "outputs": [],
      "source": [
        "rockstat={}\n",
        "j=0\n",
        "\n",
        "for h in data['Status Rocket'].unique():\n",
        "  rockstat[h]=j\n",
        "  j+=1\n",
        "\n",
        "print(rockstat)\n",
        "data[\"Status Rocket\"]=data[\"Status Rocket\"].map(rockstat)\n",
        "data.head(15)"
      ]
    },
    {
      "cell_type": "code",
      "execution_count": null,
      "metadata": {
        "id": "YZ7umNol0_r8"
      },
      "outputs": [],
      "source": []
    },
    {
      "cell_type": "markdown",
      "metadata": {
        "id": "HjfUJx0HufwK"
      },
      "source": []
    },
    {
      "cell_type": "code",
      "execution_count": null,
      "metadata": {
        "colab": {
          "base_uri": "https://localhost:8080/",
          "height": 1000
        },
        "id": "NzP_LPFq0__J",
        "outputId": "2980fba5-a965-469d-dff8-836500c2911d"
      },
      "outputs": [],
      "source": [
        "import matplotlib.pyplot as plt\n",
        "import seaborn as sns\n",
        "\n",
        "\n",
        "# correlation matrix\n",
        "correlation_matrix=data.corr()\n",
        "print('Correlation Matrix:\\n', correlation_matrix)\n",
        "\n",
        "fig=plt.figure(figsize=(10,10))\n",
        "ax=sns.heatmap(data=correlation_matrix, annot=True)\n",
        "plt.show()"
      ]
    },
    {
      "cell_type": "markdown",
      "metadata": {
        "id": "dcetglPvuh33"
      },
      "source": [
        "<strong><font color=\"#ADD8E6\" style=\"font-size: 32px;\">\n",
        "Could Not find any correlation between the features.<br>Decided to add other data:<br>\n",
        "GDP of the Country because economic condition affect the funding of space launch.\n",
        "<br>Year the country was founded. Because it takes for the company to invent things.<br>\n",
        "\n",
        "</font></strong>"
      ]
    },
    {
      "cell_type": "code",
      "execution_count": null,
      "metadata": {
        "colab": {
          "base_uri": "https://localhost:8080/",
          "height": 805
        },
        "id": "G86FoPiUOWgI",
        "outputId": "cf10133d-2f47-4ac6-a903-63a4e011efcb"
      },
      "outputs": [],
      "source": [
        "import pandas as pd\n",
        "\n",
        "#Reading the file\n",
        "space_data=pd.read_csv(\"DataFiles\\Space_Corrected.csv\")\n",
        "\n",
        "space_data"
      ]
    },
    {
      "cell_type": "markdown",
      "metadata": {
        "id": "8TU11MnXv4Mh"
      },
      "source": []
    },
    {
      "cell_type": "markdown",
      "metadata": {
        "id": "w_-47kPtv_bD"
      },
      "source": [
        "<strong><font color=\"#ADD8E6\" style=\"font-size: 32px;\">\n",
        "Looking at the company name for data analysis\n",
        "\n",
        "</font></strong>"
      ]
    },
    {
      "cell_type": "code",
      "execution_count": null,
      "metadata": {
        "colab": {
          "base_uri": "https://localhost:8080/"
        },
        "id": "vfwaNFvCbZmX",
        "outputId": "051b08bb-f37a-4ca6-eca7-3879cb067e5b"
      },
      "outputs": [],
      "source": [
        "\n",
        "# Get unique values from the 'Company Name' column\n",
        "unique_companies = space_data['Company Name'].unique()\n",
        "print(unique_companies)\n",
        "print(\"length of the company List: \", len(unique_companies))"
      ]
    },
    {
      "cell_type": "markdown",
      "metadata": {
        "id": "mSA-GG8EwJ3N"
      },
      "source": [
        "<strong><font color=\"#ADD8E6\" style=\"font-size: 32px;\">\n",
        "1. Parsed the Datum column to get the year. To create a column Year. Don't need exact second for prediction.\n",
        "2. Deleted the data before 1988 because not relevant to current world.\n",
        "3. Deleted Datum column we already got year. It will reduce computaional power.\n",
        "\n",
        "</font></strong>"
      ]
    },
    {
      "cell_type": "code",
      "execution_count": null,
      "metadata": {
        "id": "GnMvmSCQbf5L"
      },
      "outputs": [],
      "source": [
        "import pandas as pd\n",
        "\n",
        "space_data['Year'] = space_data['Datum'].str.extract(r'(\\d{4})').astype(int)\n",
        "\n",
        "# Removing all rows with a year before 1988 or after 2010 as they are not needed\n",
        "space_data = space_data[(space_data['Year'] >= 1988)]\n",
        "\n",
        "# Dropping the original 'Datum' column as it's no longer needed\n",
        "space_data = space_data.drop(columns=['Datum'])\n"
      ]
    },
    {
      "cell_type": "code",
      "execution_count": null,
      "metadata": {
        "colab": {
          "base_uri": "https://localhost:8080/"
        },
        "id": "tPj0FK--bi24",
        "outputId": "f91c76b5-945d-4c42-9e67-b01bffe76c56"
      },
      "outputs": [],
      "source": [
        "UniqueYear = space_data['Year'].unique()\n",
        "print(UniqueYear)"
      ]
    },
    {
      "cell_type": "code",
      "execution_count": null,
      "metadata": {
        "colab": {
          "base_uri": "https://localhost:8080/",
          "height": 692
        },
        "id": "PYTgSaqMbl5E",
        "outputId": "524d04b9-ced6-4769-9cc5-d7fb63ea0ccf"
      },
      "outputs": [],
      "source": [
        "space_data.head(10)"
      ]
    },
    {
      "cell_type": "markdown",
      "metadata": {
        "id": "DUinWbVIxMUq"
      },
      "source": [
        "<strong><font color=\"#ADD8E6\" style=\"font-size: 32px;\">\n",
        "DID  A LEFT JOIN ON THE DATAFRAME TO ADD THE GDP OF THE COUNTRY.\n",
        "</font></strong>"
      ]
    },
    {
      "cell_type": "code",
      "execution_count": null,
      "metadata": {
        "colab": {
          "base_uri": "https://localhost:8080/",
          "height": 206
        },
        "id": "_QEOTikUhBiy",
        "outputId": "ff9db5ec-56e4-421f-e0e7-3f276faee80c"
      },
      "outputs": [],
      "source": [
        "companies_to_country = pd.read_csv(\"DataFiles\\CompaniestoCountry.csv\")\n",
        "\n",
        "\n",
        "# removing the text other than the Company name to match\n",
        "# for example CASC (China Aerospace Science and Technology Corporation) want to remove (China Aerospace Science and Technology Corporation)\n",
        "regex_pattern = r\"\\s+\\(.*?\\)\"\n",
        "\n",
        "# Removing the space and parentheses along with the text inside them from 'Company Name' column\n",
        "companies_to_country['Company Name'] = companies_to_country['Company Name'].str.replace(regex_pattern, \"\", regex=True)\n",
        "companies_to_country.head(5)\n"
      ]
    },
    {
      "cell_type": "code",
      "execution_count": null,
      "metadata": {
        "colab": {
          "base_uri": "https://localhost:8080/"
        },
        "id": "YU3fcFnYe1vw",
        "outputId": "fce5d1af-1ead-4bbd-c297-779bd7a0fbc5"
      },
      "outputs": [],
      "source": [
        "\n",
        "# Creating a dictionary to map company names to country names\n",
        "company_to_country_dict = companies_to_country.set_index('Company Name')['Country Name'].to_dict()\n",
        "\n",
        "# Adding a new column 'Country Name' to the space_corrected_df based on the company name\n",
        "space_data['Country Name'] = space_data['Company Name'].map(company_to_country_dict)\n",
        "\n",
        "# Displaying the updated DataFrame (for verification)\n",
        "print(space_data.head(5))"
      ]
    },
    {
      "cell_type": "code",
      "execution_count": null,
      "metadata": {
        "colab": {
          "base_uri": "https://localhost:8080/",
          "height": 206
        },
        "id": "Wkuwq-7zh_BK",
        "outputId": "7255e7d8-0c0b-4f61-a937-6bc4eb95eba5"
      },
      "outputs": [],
      "source": [
        "# dropping the column of exact 'Location' and  'Detail' column\n",
        "# because it is not correlated to our goal to predcit how many rocket will be launced\n",
        "space_data.drop('Location', axis=1, inplace=True)\n",
        "\n",
        "space_data.drop('Detail', axis=1, inplace=True)\n",
        "\n",
        "# not much detail or explnation of what this column means\n",
        "# Unamed: 0.1 and Unamed: 0\n",
        "\n",
        "space_data.head(5)\n"
      ]
    },
    {
      "cell_type": "code",
      "execution_count": null,
      "metadata": {
        "colab": {
          "base_uri": "https://localhost:8080/",
          "height": 223
        },
        "id": "cwG7NHGYkyrb",
        "outputId": "529c116c-2854-4949-bcc4-3cf127bc559e"
      },
      "outputs": [],
      "source": [
        "\n",
        "# getting column name bc the names were confusing\n",
        "column_names = space_data.columns.tolist()\n",
        "print(column_names)\n",
        "\n",
        "# not much detail or explnation of what this column means\n",
        "# Unamed: 0.1 and Unamed: 0\n",
        "space_data.drop('Unnamed: 0.1', axis=1, inplace=True)\n",
        "\n",
        "space_data.drop('Unnamed: 0', axis=1, inplace=True)\n",
        "\n",
        "space_data.head(5)"
      ]
    },
    {
      "cell_type": "code",
      "execution_count": null,
      "metadata": {
        "colab": {
          "base_uri": "https://localhost:8080/"
        },
        "id": "83Dftyg8o2mG",
        "outputId": "2d295565-bb0f-48a2-ada9-e181ffae6271"
      },
      "outputs": [],
      "source": [
        "# reading the execel file the sheet name is 'Country-Timeseries'\n",
        "countriesgdb = pd.read_excel('DataFiles\\WITS-Country-Timeseries (1).xlsx',sheet_name='Country-Timeseries')\n",
        "\n",
        "# Displaying the first few rows of the DataFrame\n",
        "print(countriesgdb.head())\n"
      ]
    },
    {
      "cell_type": "code",
      "execution_count": null,
      "metadata": {
        "colab": {
          "base_uri": "https://localhost:8080/",
          "height": 206
        },
        "id": "3nenJ2ePv4YJ",
        "outputId": "93adc768-14f7-4412-edca-bf5fdf1d268f"
      },
      "outputs": [],
      "source": [
        "# Reshaping the GDP DataFrame from wide to long format\n",
        "df_gdp_long = countriesgdb.melt(id_vars=['Country Name', 'Indicator Name'], var_name='Year', value_name='GDP')\n",
        "\n",
        "# Converting the 'Year' column to integer for both DataFrames to ensure matching types\n",
        "df_gdp_long['Year'] = df_gdp_long['Year'].astype(int)\n",
        "space_data['Year'] = space_data['Year'].astype(int)\n",
        "\n",
        "# Merging the GDP data into the space DataFrame on 'Country Name' and 'Year'\n",
        "space_data = pd.merge(space_data, df_gdp_long, on=['Country Name', 'Year'], how='left')\n",
        "\n",
        "space_data.head(5)"
      ]
    },
    {
      "cell_type": "code",
      "execution_count": null,
      "metadata": {
        "colab": {
          "base_uri": "https://localhost:8080/",
          "height": 519
        },
        "id": "uLChfwnxwPJ3",
        "outputId": "848344fb-c810-44de-a0de-892ef544377d"
      },
      "outputs": [],
      "source": [
        "space_data.head(15)"
      ]
    },
    {
      "cell_type": "markdown",
      "metadata": {
        "id": "fRv4V2znxoGH"
      },
      "source": [
        "<strong><font color=\"#ADD8E6\" style=\"font-size: 32px;\">\n",
        "LEFT JOING THE YEAR THE COMPANY WAS FOUNDING FOR BETTER PREDICTION.\n",
        "\n",
        "</font></strong>"
      ]
    },
    {
      "cell_type": "code",
      "execution_count": null,
      "metadata": {
        "colab": {
          "base_uri": "https://localhost:8080/",
          "height": 206
        },
        "id": "4ki2PUOit4gw",
        "outputId": "5d8ae9ef-193a-41eb-ac9a-6524731970f5"
      },
      "outputs": [],
      "source": [
        "companies_to_founded = pd.read_csv(\"DataFiles\\Space_Companies_Founded_Year.csv\")\n",
        "\n",
        "\n",
        "# removing the text other than the Company name to match\n",
        "# for example CASC (China Aerospace Science and Technology Corporation) want to remove (China Aerospace Science and Technology Corporation)\n",
        "regex_pattern = r\"\\s+\\(.*?\\)\"\n",
        "\n",
        "# Removing the space and parentheses along with the text inside them from 'Company Name' column\n",
        "companies_to_founded['Company Name'] = companies_to_founded['Company Name'].str.replace(regex_pattern, \"\", regex=True)\n",
        "companies_to_founded.head(5)"
      ]
    },
    {
      "cell_type": "code",
      "execution_count": null,
      "metadata": {
        "colab": {
          "base_uri": "https://localhost:8080/",
          "height": 519
        },
        "id": "5JYfGuXyuJ-u",
        "outputId": "9b7cd2d3-953a-4098-feb9-c1f6084fa502"
      },
      "outputs": [],
      "source": [
        "space_data = space_data.merge(companies_to_founded, on='Company Name', how='left')\n",
        "space_data.head(10)"
      ]
    },
    {
      "cell_type": "code",
      "execution_count": null,
      "metadata": {
        "colab": {
          "base_uri": "https://localhost:8080/"
        },
        "id": "Q-xK-CfZ9y6R",
        "outputId": "0d59ae10-158d-4083-b96e-b3c97e7da162"
      },
      "outputs": [],
      "source": [
        "print(unique_companies)"
      ]
    },
    {
      "cell_type": "code",
      "execution_count": null,
      "metadata": {
        "colab": {
          "base_uri": "https://localhost:8080/"
        },
        "id": "lWzG7EXn-R3M",
        "outputId": "c50e63df-338f-457b-ba39-9dc32a8be3ba"
      },
      "outputs": [],
      "source": [
        "launch_counts = space_data.groupby(['Company Name', 'Year']).size().reset_index(name='Launch Count')\n",
        "\n",
        "print(launch_counts)\n",
        "sorted_launch_counts = launch_counts.sort_values(by='Year')\n",
        "\n",
        "print(sorted_launch_counts)"
      ]
    },
    {
      "cell_type": "code",
      "execution_count": null,
      "metadata": {
        "colab": {
          "base_uri": "https://localhost:8080/"
        },
        "id": "6825zTMEXykR",
        "outputId": "c148ddb8-3187-4db5-d389-39ae18b9ac8a"
      },
      "outputs": [],
      "source": [
        "# deleting the data after 2010 to see how good is the model in predicting the feature\n",
        "\n",
        "after2010=space_data[(space_data['Year'] >= 2010)]\n",
        "space_data = space_data[(space_data['Year'] <= 2010)]\n",
        "\n",
        "UniqueYear = space_data['Year'].unique()\n",
        "print(UniqueYear)\n",
        "\n",
        "# check the data after 2010\n",
        "years = after2010['Year'].unique()\n",
        "print(years)\n",
        "\n",
        "print(after2010.head(10))"
      ]
    },
    {
      "cell_type": "markdown",
      "metadata": {
        "id": "3ctp7WYox4XG"
      },
      "source": [
        "<strong><font color=\"#ADD8E6\" style=\"font-size: 32px;\">\n",
        "SOME VISUALIZATION FOR ANAYZING DATA AND TO CREATE BETTER MODEL\n",
        "</font></strong>"
      ]
    },
    {
      "cell_type": "markdown",
      "metadata": {
        "id": "GHeGjG6-yCD8"
      },
      "source": [
        "<strong><font color=\"#ADD8E6\" style=\"font-size: 32px;\">\n",
        "HISTOGRAM TO SEE HOW MANY SPACE IS LAUNCHED BY EACH COMPANY IN THAT PARITICULAR YEAR.\n",
        "</font></strong>"
      ]
    },
    {
      "cell_type": "code",
      "execution_count": null,
      "metadata": {
        "colab": {
          "base_uri": "https://localhost:8080/",
          "height": 1000
        },
        "id": "A0Dw-Mlhp5h3",
        "outputId": "e6da1ebf-5070-4657-e36c-e8c484561f4a"
      },
      "outputs": [],
      "source": [
        "# Create a pivot table with 'Year' as the index and 'Company Name' as the columns\n",
        "pivot_table = launch_counts.pivot(index='Year', columns='Company Name', values='Launch Count').fillna(0)\n",
        "\n",
        "# Get the list of unique company names and divide into 8 roughly equal groups\n",
        "companies = pivot_table.columns.tolist()\n",
        "group_size = len(companies) // 8 + (len(companies) % 8 > 0)  # Ensure each group has at least the average number of companies\n",
        "company_groups = [companies[i:i + group_size] for i in range(0, len(companies), group_size)]\n",
        "\n",
        "# Plot separate graphs for each group\n",
        "for i, group in enumerate(company_groups, start=1):\n",
        "    fig, ax = plt.subplots(figsize=(12, 6))  # Adjust the size as needed\n",
        "    pivot_table[group].plot(kind='bar', ax=ax)\n",
        "    plt.title(f'Number of Rocket Launches by Company Group {i}')\n",
        "    plt.xlabel('Year')\n",
        "    plt.ylabel('Number of Launches')\n",
        "    plt.legend(title='Company Name')\n",
        "    plt.xticks(rotation=45)  # Rotate the x-axis labels for better readability\n",
        "    plt.tight_layout()  # Adjust the layout\n",
        "    plt.show()"
      ]
    },
    {
      "cell_type": "markdown",
      "metadata": {
        "id": "rz7GdufMyQ87"
      },
      "source": [
        "<strong><font color=\"#ADD8E6\" style=\"font-size: 32px;\">\n",
        "PIE CHART TO COMPARE BETWEEN COUNTRIES WHAT PERCENT OF SPACE COMPANY BELONG TO EACH COMPANY.\n",
        "\n",
        "</font></strong>"
      ]
    },
    {
      "cell_type": "code",
      "execution_count": null,
      "metadata": {
        "colab": {
          "base_uri": "https://localhost:8080/",
          "height": 954
        },
        "id": "SV00INIFlrhW",
        "outputId": "427cbdc1-6d01-4c20-da70-89996756ea64"
      },
      "outputs": [],
      "source": [
        "company_count_per_country = space_data['Country Name'].value_counts()\n",
        "\n",
        "# Determine the number of countries to display per pie chart\n",
        "countries_per_chart = len(company_count_per_country) // 4  # Adjust the divisor as needed\n",
        "\n",
        "# Create subplots with 2 rows and 2 columns (or as needed)\n",
        "fig, axs = plt.subplots(2, 2, figsize=(14, 14))\n",
        "\n",
        "# Flatten the axes array for easy iteration\n",
        "axs = axs.flatten()\n",
        "\n",
        "for i, (country_chunk, ax) in enumerate(zip(company_count_per_country.items(), axs)):\n",
        "    # Check if there are enough countries to split into this chunk\n",
        "    if i * countries_per_chart < len(company_count_per_country):\n",
        "        start = i * countries_per_chart\n",
        "        end = start + countries_per_chart\n",
        "        data_chunk = dict(company_count_per_country[start:end])\n",
        "        ax.pie(data_chunk.values(), labels=data_chunk.keys(), autopct='%1.1f%%', startangle=140)\n",
        "        ax.set_title(f'Companies by Country - Chart {i+1}')\n",
        "    else:\n",
        "        # Hide axes that are not used\n",
        "        ax.axis('off')\n",
        "\n",
        "# Adjust layout to prevent overlap\n",
        "plt.tight_layout()\n",
        "\n",
        "# Display the pie charts\n",
        "plt.show()"
      ]
    },
    {
      "cell_type": "markdown",
      "metadata": {
        "id": "JGvV4o-byjvZ"
      },
      "source": [
        "<strong><font color=\"#ADD8E6\" style=\"font-size: 32px;\">\n",
        "HISTOGRAM TO SEE HOW MANY SUCCESSFUK MISSION IS CONDUCTED BY EACH COMPANY.\n",
        "</font></strong>"
      ]
    },
    {
      "cell_type": "code",
      "execution_count": null,
      "metadata": {
        "colab": {
          "base_uri": "https://localhost:8080/",
          "height": 1000
        },
        "id": "ptUxc6mVo5Lu",
        "outputId": "083d5b53-a444-4ac4-d114-270ba01f1d66"
      },
      "outputs": [],
      "source": [
        "success_df = space_data[space_data['Status Mission'] == 'Success']\n",
        "# Count the number of successful missions per company\n",
        "success_counts = success_df['Company Name'].value_counts()\n",
        "\n",
        "# Divide the counts into two groups for plotting\n",
        "half = len(success_counts) // 2\n",
        "group1 = success_counts[:half]\n",
        "group2 = success_counts[half:]\n",
        "\n",
        "# Function to add labels on top of each bar\n",
        "def add_labels(ax, data):\n",
        "    for bar in ax.patches:\n",
        "        height = bar.get_height()\n",
        "        ax.annotate(f'{int(height)}',\n",
        "                    xy=(bar.get_x() + bar.get_width() / 2, height),\n",
        "                    xytext=(0, 3),  # 3 points vertical offset\n",
        "                    textcoords=\"offset points\",\n",
        "                    ha='center', va='bottom')\n",
        "\n",
        "# Plot the first group\n",
        "fig, ax1 = plt.subplots(figsize=(10, 5))\n",
        "group1.plot(kind='bar', ax=ax1)\n",
        "add_labels(ax1, group1)\n",
        "plt.title('Number of Successful Missions (Group 1)')\n",
        "plt.xlabel('Company Name')\n",
        "plt.ylabel('Count')\n",
        "plt.show()\n",
        "\n",
        "# Plot the second group\n",
        "fig, ax2 = plt.subplots(figsize=(10, 5))\n",
        "group2.plot(kind='bar', ax=ax2)\n",
        "add_labels(ax2, group2)\n",
        "plt.title('Number of Successful Missions (Group 2)')\n",
        "plt.xlabel('Company Name')\n",
        "plt.ylabel('Count')\n",
        "plt.show()"
      ]
    },
    {
      "cell_type": "code",
      "execution_count": null,
      "metadata": {
        "colab": {
          "base_uri": "https://localhost:8080/"
        },
        "id": "dq7-VuQuvGk6",
        "outputId": "9227ed8a-b9ee-4900-d106-10e914d922fd"
      },
      "outputs": [],
      "source": [
        "# Calculate the number of null values for each column\n",
        "null_counts = space_data.isnull().sum()\n",
        "\n",
        "# Print the counts of null values\n",
        "print(null_counts)"
      ]
    },
    {
      "cell_type": "markdown",
      "metadata": {
        "id": "YMjFqg0Fy0fq"
      },
      "source": [
        "<strong><font color=\"#ADD8E6\" style=\"font-size: 32px;\">\n",
        "TABLE TO SHOW HOW MUCH EACH COUNTRY SPEND ON AVERAGE IN EVERY SPACE LAUNCH\n",
        "\n",
        "</font></strong>"
      ]
    },
    {
      "cell_type": "code",
      "execution_count": null,
      "metadata": {
        "colab": {
          "base_uri": "https://localhost:8080/",
          "height": 1000
        },
        "id": "uvRDVTQvyRuD",
        "outputId": "2907d0c9-9b87-4c72-efc4-249a412f724b"
      },
      "outputs": [],
      "source": [
        "# Replace NaN values with the mean of the 'Rocket' column\n",
        "space_data['Rocket'] = space_data['Rocket'].astype(str).str.replace(',', '')\n",
        "space_data['Rocket'] = pd.to_numeric(space_data['Rocket'], errors='coerce')\n",
        "\n",
        "# Now calculate the mean\n",
        "mean_cost = space_data['Rocket'].mean()\n",
        "\n",
        "# Fill NaN values with the mean\n",
        "space_data['Rocket'] = space_data['Rocket'].fillna(mean_cost)\n",
        "\n",
        "# Calculate the average cost per company\n",
        "average_costs = space_data.groupby('Company Name')['Rocket'].mean()\n",
        "\n",
        "# Sort the companies by average cost and split into two groups\n",
        "sorted_average_costs = average_costs.sort_values()\n",
        "midpoint = len(sorted_average_costs) // 2\n",
        "group1 = sorted_average_costs[:midpoint]\n",
        "group2 = sorted_average_costs[midpoint:]\n",
        "\n",
        "# Function to add labels on top of each bar as integers\n",
        "def add_value_labels(ax, spacing=5):\n",
        "    for rect in ax.patches:\n",
        "        y_value = rect.get_height()\n",
        "        x_value = rect.get_x() + rect.get_width() / 2\n",
        "        label = \"{:.0f}\".format(y_value)  # Format as an integer\n",
        "        ax.annotate(\n",
        "            label,\n",
        "            (x_value, y_value),\n",
        "            xytext=(0, spacing),\n",
        "            textcoords=\"offset points\",\n",
        "            ha='center',\n",
        "            va='bottom')\n",
        "\n",
        "# Plot the first group with integer annotations\n",
        "plt.figure(figsize=(10, 5))\n",
        "ax1 = group1.plot(kind='bar', color='skyblue')\n",
        "add_value_labels(ax1)\n",
        "plt.title('Average Cost of Rocket Launches by Company (Group 1)')\n",
        "plt.xlabel('Company Name')\n",
        "plt.ylabel('Average Cost (in millions)')\n",
        "plt.xticks(rotation=45)\n",
        "plt.show()\n",
        "\n",
        "# Plot the second group with integer annotations\n",
        "plt.figure(figsize=(10, 5))\n",
        "ax2 = group2.plot(kind='bar', color='skyblue')\n",
        "add_value_labels(ax2)\n",
        "plt.title('Average Cost of Rocket Launches by Company (Group 2)')\n",
        "plt.xlabel('Company Name')\n",
        "plt.ylabel('Average Cost (in millions)')\n",
        "plt.xticks(rotation=45)\n",
        "plt.show()"
      ]
    },
    {
      "cell_type": "markdown",
      "metadata": {
        "id": "V-N6M8cSy_oG"
      },
      "source": [
        "<strong><font color=\"#ADD8E6\" style=\"font-size: 32px;\">\n",
        "RANDOM FOREST REGRESSOR MODEL TO PREDICT HOW MANY ROCKET WILL BE LAUNCHED BY EACH COMPANY IN THAT PARITICULAR YEAR.\n",
        "<br>THE PREDICT_LAUNCHED FUNCTION CAN TAKE USER INPUT AND PREDICT HOW MANY ROCKET WILL BE LAUNCHED.</br>\n",
        "<br>I HAVE REMOVED THE DATA AFTER 2010 SO WE CAN SEE HOW GOOD OUR MODEL WILL BE AT PREDICTING FUTURE NUMBER OF LAUNCHES OF THAT COMPANY.</br>\n",
        "\n",
        "</font></strong>"
      ]
    },
    {
      "cell_type": "code",
      "execution_count": null,
      "metadata": {
        "colab": {
          "base_uri": "https://localhost:8080/"
        },
        "id": "hHuLdcVJvOwt",
        "outputId": "82774a1d-78a6-4a72-dc1b-48505fbd9a0b"
      },
      "outputs": [],
      "source": [
        "import pandas as pd\n",
        "import numpy as np\n",
        "from sklearn.model_selection import train_test_split, cross_val_score\n",
        "from sklearn.ensemble import RandomForestRegressor\n",
        "from sklearn.metrics import mean_squared_error\n",
        "from sklearn.preprocessing import OneHotEncoder, StandardScaler\n",
        "from sklearn.compose import ColumnTransformer\n",
        "from sklearn.pipeline import Pipeline\n",
        "from sklearn.impute import SimpleImputer\n",
        "from sklearn.metrics import mean_squared_error, r2_score\n",
        "\n",
        "import time\n",
        "start_time = time.time()\n",
        "\n",
        "# Load your dataset\n",
        "  # Replace with the path to your dataset\n",
        "data = space_data\n",
        "# Basic data cleaning\n",
        "# Replace commas in 'Rocket' column and convert to numeric\n",
        "data['Rocket'] = data['Rocket'].replace({',': ''}, regex=True)\n",
        "data['Rocket'] = pd.to_numeric(data['Rocket'], errors='coerce')\n",
        "\n",
        "# Fill missing values\n",
        "data['Rocket'] = data['Rocket'].fillna(data['Rocket'].median())\n",
        "data['Founded Year'] = data['Founded Year'].fillna(data['Founded Year'].median())\n",
        "data['GDP'] = data['GDP'].fillna(data['GDP'].mean())\n",
        "\n",
        "# Feature Engineering\n",
        "data['Years Since Foundation'] = data['Year'] - data['Founded Year']\n",
        "data['Launch Count'] = data.groupby(['Company Name', 'Year'])['Year'].transform('count')\n",
        "\n",
        "# Selecting features and target\n",
        "features = ['Company Name', 'Rocket', 'GDP', 'Year', 'Years Since Foundation']\n",
        "target = 'Launch Count'\n",
        "\n",
        "# Preprocessing\n",
        "preprocessor = ColumnTransformer(\n",
        "    transformers=[\n",
        "        ('num', SimpleImputer(strategy='median'), ['Rocket', 'GDP', 'Year', 'Years Since Foundation']),\n",
        "        ('cat', OneHotEncoder(handle_unknown='ignore'), ['Company Name']),\n",
        "        ('scale', StandardScaler(), ['Rocket', 'GDP', 'Year', 'Years Since Foundation'])\n",
        "    ])\n",
        "\n",
        "# Creating the model pipeline\n",
        "model = Pipeline(steps=[('preprocessor', preprocessor),\n",
        "                        ('regressor', RandomForestRegressor(random_state=42))])\n",
        "\n",
        "# Splitting the data into training and test sets\n",
        "X = data[features]\n",
        "y = data[target]\n",
        "X_train, X_test, y_train, y_test = train_test_split(X, y, test_size=0.2, random_state=42)\n",
        "\n",
        "# Training the model\n",
        "model.fit(X_train, y_train)\n",
        "\n",
        "y_pred = model.predict(X_test)\n",
        "\n",
        "# Calculate metrics\n",
        "mse = mean_squared_error(y_test, y_pred)\n",
        "rmse = np.sqrt(mse)\n",
        "r2 = r2_score(y_test, y_pred)\n",
        "\n",
        "# Print the results\n",
        "print(f\"Mean Squared Error: {mse}\")\n",
        "print(f\"Root Mean Squared Error: {rmse}\")\n",
        "print(f\"R-squared: {r2}\")\n",
        "end_time = time.time()\n",
        "\n",
        "\n",
        "prediction_time = end_time - start_time\n",
        "print(\"Prediction Time: {:.2f} seconds\".format(prediction_time))\n",
        "\n",
        "# Predict function\n",
        "def predict_launches(company_name, rocket_cost, gdp, year, years_since_foundation, model):\n",
        "    \"\"\"\n",
        "    Predicts the number of rocket launches based on the given features.\n",
        "\n",
        "    Returns:\n",
        "    float: Predicted number of rocket launches\n",
        "    \"\"\"\n",
        "    input_data = pd.DataFrame({\n",
        "        'Company Name': [company_name],\n",
        "        'Rocket': [rocket_cost],\n",
        "        'GDP': [gdp],\n",
        "        'Year': [year],\n",
        "        'Years Since Foundation': [years_since_foundation]\n",
        "    })\n",
        "    return model.predict(input_data)[0]\n",
        "\n",
        "# Example prediction\n",
        "example_prediction = predict_launches('NASA', 120, 200.106047e+13, 2030, 80, model)\n",
        "print(\"Predicted Launches:\", example_prediction)\n",
        "\n",
        "\n",
        "example_prediction2 = predict_launches('CASC', 110, 100.106047e+13, 2020, 40, model)\n",
        "print(\"Predicted Launches:\", example_prediction2)\n",
        "example_prediction3 = predict_launches('SpaceX', 110, 100.106047e+13, 2030, 50, model)\n",
        "print(\"Predicted Launches:\", example_prediction3)"
      ]
    },
    {
      "cell_type": "markdown",
      "metadata": {
        "id": "XQx1XGil0AZD"
      },
      "source": [
        "<strong><font color=\"#ADD8E6\" style=\"font-size: 32px;\">\n",
        "CALLING THE PREDICT FUNCTION USING THE RANDOM FOREST REGRESSOR MODEL TO GET THE PREDICTION.\n",
        "AFTER GETTING THE PREDICTION I ADDED TWO COLUMN:\n",
        "<BR>NUMBER OF LAUNCH =ACTUAL NUMBER OF LAUNCHES BY COMPANY EACH YEAR</BR>\n",
        "<BR>PREDICTED LAUNCH = PREDICTED NUMBER OF LAUNCHES BY COMPANY EACH YEAR</BR>\n",
        "<BR>PURPOSE: TO SEE HOW GOOD OUR MODEL IN PREDICTING THE FUTURE LAUNCHES</BR>\n",
        "</font></strong>"
      ]
    },
    {
      "cell_type": "code",
      "execution_count": null,
      "metadata": {
        "id": "3hiyGbrBd-5K"
      },
      "outputs": [],
      "source": [
        "space_data_new = after2010\n",
        "\n",
        "# Convert the 'Rocket' column to a numeric data type, setting errors='coerce' to handle non-numeric values\n",
        "space_data_new['Rocket'] = pd.to_numeric(space_data_new['Rocket'], errors='coerce')\n",
        "\n",
        "# Correcting the calculation for 'Years Since Founded' based on the 'Year' column\n",
        "space_data_new['Years Since Founded'] = space_data_new['Year'] - space_data_new['Founded Year']\n",
        "\n",
        "# Reapplying the aggregation steps with the corrected 'Years Since Founded'\n",
        "grouped_data_corrected = space_data_new.groupby(['Company Name', 'Year'])\n",
        "modified_data_corrected = grouped_data_corrected.agg({\n",
        "    'Rocket': 'mean',  # Mean of rocket launch cost\n",
        "    'GDP': 'mean',  # GDP of the year\n",
        "    'Founded Year': 'first',  # Year company was founded\n",
        "    'Years Since Founded': 'first'  # Corrected number of years since company was founded\n",
        "}).reset_index()\n",
        "\n",
        "# Adding the count of launches per company per year\n",
        "modified_data_corrected['Number of Launches'] = grouped_data_corrected.size().reset_index(name='Launch Count')['Launch Count']\n",
        "\n",
        "# Renaming columns for clarity\n",
        "modified_data_corrected.rename(columns={'Rocket': 'Mean Rocket Launch Cost', 'GDP': 'GDP of the Year'}, inplace=True)\n",
        "\n",
        "modified_data_corrected.head(10)\n",
        "\n",
        "# Replacing empty string with NaN\n",
        "modified_data_corrected = modified_data_corrected.replace('', pd.NA)\n",
        "\n",
        "# Filling NaN values with the mean of the respective column (for numeric columns only)\n",
        "modified_data_corrected = modified_data_corrected.fillna(modified_data_corrected.mean(numeric_only=True))\n",
        "\n"
      ]
    },
    {
      "cell_type": "code",
      "execution_count": null,
      "metadata": {
        "colab": {
          "base_uri": "https://localhost:8080/"
        },
        "id": "UhZtUwsEgDzs",
        "outputId": "ecd9786a-159a-44a1-9255-7632393a375e"
      },
      "outputs": [],
      "source": [
        "def add_predicted_launches(df, model):\n",
        "    \"\"\"\n",
        "    Adds a column to the DataFrame with predicted number of launches.\n",
        "\n",
        "    Returns:\n",
        "    pd.DataFrame: The DataFrame with an additional column for predicted launches.\n",
        "    \"\"\"\n",
        "    import math\n",
        "\n",
        "\n",
        "    def predict_row(row):\n",
        "        return math.ceil(predict_launches(\n",
        "            row['Company Name'],\n",
        "            row['Mean Rocket Launch Cost'],\n",
        "            row['GDP of the Year'],\n",
        "            row['Year'],\n",
        "            row['Years Since Founded'],\n",
        "            model\n",
        "        ))\n",
        "\n",
        "    # Apply predict_row function to each row in the DataFrame\n",
        "    df['Predicted Launches'] = df.apply(predict_row, axis=1)\n",
        "    return df\n",
        "\n",
        "# Example usage\n",
        "modified_data_with_predictions = add_predicted_launches(modified_data_corrected, model)\n",
        "\n",
        "print(modified_data_with_predictions.head(10))\n",
        "\n"
      ]
    },
    {
      "cell_type": "markdown",
      "metadata": {
        "id": "bG6ComlwbSZF"
      },
      "source": [
        "<strong><font color=\"#ADD8E6\" style=\"font-size: 32px;\">\n",
        "GRAPH TO SHOW ACTUAL NUMBER OF LAUNCH VS PREDICTED NUMBER OF SPACE LAUNCH\n",
        "</font></strong>"
      ]
    },
    {
      "cell_type": "code",
      "execution_count": null,
      "metadata": {
        "colab": {
          "base_uri": "https://localhost:8080/",
          "height": 988
        },
        "id": "HlYn72cvmELO",
        "outputId": "73482880-9dde-427f-84aa-1875d4a6ce3d"
      },
      "outputs": [],
      "source": [
        "\n",
        "# Filter data to include only rows with both actual and predicted launches\n",
        "data_with_launches = modified_data_with_predictions.dropna(subset=['Number of Launches', 'Predicted Launches'])\n",
        "\n",
        "# Group by Company Name to get total actual and predicted launches for each company\n",
        "grouped_data = data_with_launches.groupby('Company Name').agg({\n",
        "    'Number of Launches': 'sum',\n",
        "    'Predicted Launches': 'sum'\n",
        "}).reset_index()\n",
        "\n",
        "# Splitting the grouped data into three parts for plotting\n",
        "third = len(grouped_data) // 3\n",
        "first_third = grouped_data.iloc[:third]\n",
        "second_third = grouped_data.iloc[third:2*third]\n",
        "third_third = grouped_data.iloc[2*third:]\n",
        "\n",
        "# Helper function to create a bar plot for a given set of data\n",
        "def create_bar_plot(data, ax, title):\n",
        "    index = np.arange(len(data))\n",
        "    bar_width = 0.35\n",
        "\n",
        "    ax.bar(index, data['Number of Launches'], bar_width, label='Actual Launches', color='blue')\n",
        "    ax.bar(index + bar_width, data['Predicted Launches'], bar_width, label='Predicted Launches', color='orange')\n",
        "\n",
        "    ax.set_xlabel('Company Name')\n",
        "    ax.set_ylabel('Number of Launches')\n",
        "    ax.set_title(title)\n",
        "    ax.set_xticks(index + bar_width / 2)\n",
        "    ax.set_xticklabels(data['Company Name'], rotation=90)\n",
        "    ax.legend()\n",
        "\n",
        "# Plotting the three parts\n",
        "fig, axs = plt.subplots(3, 1, figsize=(15, 15))\n",
        "create_bar_plot(first_third, axs[0], 'Actual vs Predicted Rocket Launches by Company (Part 1)')\n",
        "create_bar_plot(second_third, axs[1], 'Actual vs Predicted Rocket Launches by Company (Part 2)')\n",
        "create_bar_plot(third_third, axs[2], 'Actual vs Predicted Rocket Launches by Company (Part 3)')\n",
        "\n",
        "plt.tight_layout()\n",
        "plt.show()\n"
      ]
    },
    {
      "cell_type": "code",
      "execution_count": null,
      "metadata": {
        "colab": {
          "base_uri": "https://localhost:8080/",
          "height": 1000
        },
        "id": "jsThbxNtN3w3",
        "outputId": "8b6b04aa-478e-42bd-ae87-263f9db77db3"
      },
      "outputs": [],
      "source": [
        "import matplotlib.pyplot as plt\n",
        "import seaborn as sns\n",
        "import pandas as pd\n",
        "\n",
        "# Assuming y_test and y_pred are already defined as per your model predictions\n",
        "\n",
        "# Scatter plot of actual vs predicted values\n",
        "plt.figure(figsize=(10, 6))\n",
        "plt.scatter(y_test, y_pred, alpha=0.5)\n",
        "plt.title('Actual vs. Predicted Launch Counts')\n",
        "plt.xlabel('Actual Launch Count')\n",
        "plt.ylabel('Predicted Launch Count')\n",
        "plt.plot([min(y_test), max(y_test)], [min(y_test), max(y_test)], color='red') # Diagonal line for reference\n",
        "plt.show()\n",
        "\n",
        "# Create a DataFrame for the residuals\n",
        "residuals_df = pd.DataFrame({\n",
        "    'Predicted': y_pred,\n",
        "    'Residuals': y_test - y_pred\n",
        "})\n",
        "\n",
        "# Residual plot\n",
        "plt.figure(figsize=(10, 6))\n",
        "sns.residplot(x='Predicted', y='Residuals', data=residuals_df, lowess=True, color=\"g\")\n",
        "plt.title('Residual Plot')\n",
        "plt.xlabel('Predicted Launch Count')\n",
        "plt.ylabel('Residuals')\n",
        "plt.show()\n"
      ]
    },
    {
      "cell_type": "code",
      "execution_count": null,
      "metadata": {
        "colab": {
          "base_uri": "https://localhost:8080/"
        },
        "id": "et82r06l8dJq",
        "outputId": "fa4be712-7907-4891-a0cb-638875a027a8"
      },
      "outputs": [],
      "source": [
        "print(space_data['Status Mission'].unique())"
      ]
    },
    {
      "cell_type": "markdown",
      "metadata": {
        "id": "Bf3-aKYHbidE"
      },
      "source": [
        "<strong><font color=\"#ADD8E6\" style=\"font-size: 32px;\">\n",
        "PREDICTS THE Success' 'Failure' 'Partial Failure' 'Prelaunch Failure' OF THE SPACE LAUNCH USING THE RANDOM FOREST CLASSIFIER MODEL\n",
        "\n",
        "> Indented block\n",
        "\n",
        "\n",
        "</font></strong>"
      ]
    },
    {
      "cell_type": "code",
      "execution_count": null,
      "metadata": {
        "colab": {
          "base_uri": "https://localhost:8080/"
        },
        "id": "1WR7v6n__NY6",
        "outputId": "a2c7ccd9-d10b-4654-fb7f-1c28f60ab7e9"
      },
      "outputs": [],
      "source": [
        "import pandas as pd\n",
        "from sklearn.model_selection import train_test_split\n",
        "from sklearn.ensemble import RandomForestClassifier\n",
        "from sklearn.metrics import classification_report, accuracy_score\n",
        "from sklearn.preprocessing import LabelEncoder\n",
        "from sklearn.impute import SimpleImputer\n",
        "import numpy as np\n",
        "import time\n",
        "\n",
        "start_time = time.time()\n",
        "\n",
        "# Load the dataset\n",
        "data = space_data\n",
        "\n",
        "# Numerical columns\n",
        "numerical_columns = data.select_dtypes(include=[np.number]).columns.tolist()\n",
        "imputer_num = SimpleImputer(strategy='median')\n",
        "data[numerical_columns] = imputer_num.fit_transform(data[numerical_columns])\n",
        "\n",
        "# Categorical columns\n",
        "categorical_columns = data.select_dtypes(include=['object']).columns.tolist()\n",
        "imputer_cat = SimpleImputer(strategy='most_frequent')\n",
        "data[categorical_columns] = imputer_cat.fit_transform(data[categorical_columns])\n",
        "\n",
        "# Encoding categorical variables\n",
        "label_encoders = {}\n",
        "for column in categorical_columns:\n",
        "    if column != 'Status Mission':  # Exclude the target variable\n",
        "        le = LabelEncoder()\n",
        "        data[column] = le.fit_transform(data[column])\n",
        "        label_encoders[column] = le\n",
        "\n",
        "# Separating the target variable\n",
        "X = data.drop('Status Mission', axis=1)\n",
        "y = data['Status Mission']\n",
        "\n",
        "# Encoding the target variable\n",
        "le_target = LabelEncoder()\n",
        "y = le_target.fit_transform(y)\n",
        "\n",
        "# Splitting the dataset into training and testing sets\n",
        "X_train, X_test, y_train, y_test = train_test_split(X, y, test_size=0.2, random_state=42)\n",
        "\n",
        "# Initialize the Random Forest Classifier\n",
        "rf = RandomForestClassifier(n_estimators=100, random_state=42)\n",
        "\n",
        "# Train the model\n",
        "rf.fit(X_train, y_train)\n",
        "\n",
        "# Predicting on the test set\n",
        "y_pred = rf.predict(X_test)\n",
        "\n",
        "# Evaluating the model\n",
        "accuracy = accuracy_score(y_test, y_pred)\n",
        "\n",
        "# Determine the classes present in the test set\n",
        "unique_classes = np.unique(np.concatenate((y_test, y_pred)))\n",
        "\n",
        "# Filter the target names based on the unique classes\n",
        "target_names_filtered = le_target.inverse_transform(unique_classes)\n",
        "\n",
        "# Generate the classification report\n",
        "classification_report_str = classification_report(y_test, y_pred, target_names=target_names_filtered)\n",
        "end_time = time.time()\n",
        "\n",
        "prediction_time = end_time - start_time\n",
        "print(\"Prediction Time: {:.2f} seconds\".format(prediction_time))\n",
        "\n",
        "print(\"Accuracy:\", accuracy)\n",
        "print(\"Classification Report:\\n\", classification_report_str)\n"
      ]
    },
    {
      "cell_type": "code",
      "execution_count": null,
      "metadata": {
        "colab": {
          "base_uri": "https://localhost:8080/",
          "height": 641
        },
        "id": "tGipmy2MPadO",
        "outputId": "53cc2040-6e72-4058-deb7-9a4fa3e7fd0b"
      },
      "outputs": [],
      "source": [
        "from sklearn.metrics import confusion_matrix\n",
        "\n",
        "# Calculate the confusion matrix\n",
        "cm = confusion_matrix(y_test, y_pred)\n",
        "\n",
        "# Transform confusion matrix to DataFrame for Seaborn\n",
        "cm_df = pd.DataFrame(cm, index=target_names_filtered, columns=target_names_filtered)\n",
        "\n",
        "# Plot the confusion matrix\n",
        "plt.figure(figsize=(10, 7))\n",
        "sns.heatmap(cm_df, annot=True, fmt='g', cmap='Blues')\n",
        "plt.title('Confusion Matrix')\n",
        "plt.ylabel('Actual Labels')\n",
        "plt.xlabel('Predicted Labels')\n",
        "plt.show()"
      ]
    },
    {
      "cell_type": "markdown",
      "metadata": {
        "id": "MJJ9ZIRvbxoi"
      },
      "source": [
        "<strong><font color=\"#ADD8E6\" style=\"font-size: 32px;\">\n",
        "PREDICTS THE Success' 'Failure' 'Partial Failure' 'Prelaunch Failure' OF THE SPACE LAUNCH USING THE\n",
        "LOGISTIC REGRESSION MODEL\n",
        "\n",
        "</font></strong>"
      ]
    },
    {
      "cell_type": "code",
      "execution_count": null,
      "metadata": {
        "colab": {
          "base_uri": "https://localhost:8080/"
        },
        "id": "aK2TSn9eFKQK",
        "outputId": "41c9345e-835d-47a5-8b6e-e0a71b18d48e"
      },
      "outputs": [],
      "source": [
        "import pandas as pd\n",
        "from sklearn.model_selection import train_test_split\n",
        "from sklearn.linear_model import LogisticRegression\n",
        "from sklearn.metrics import classification_report, accuracy_score\n",
        "from sklearn.preprocessing import LabelEncoder, StandardScaler\n",
        "from sklearn.impute import SimpleImputer\n",
        "from sklearn.pipeline import Pipeline\n",
        "\n",
        "start_time = time.time()\n",
        "\n",
        "\n",
        "# Load the dataset\n",
        "space_data=pd.read_csv(\"/content/Space_Corrected.csv\")\n",
        "data = space_data\n",
        "\n",
        "# Separate features and target variable\n",
        "X = data.drop('Status Mission', axis=1)\n",
        "y = data['Status Mission']\n",
        "\n",
        "# Encode categorical variables\n",
        "label_encoders = {}\n",
        "for column in X.select_dtypes(include=['object']).columns:\n",
        "    le = LabelEncoder()\n",
        "    X[column] = le.fit_transform(X[column])\n",
        "    label_encoders[column] = le\n",
        "\n",
        "# Encode the target variable\n",
        "le_target = LabelEncoder()\n",
        "y = le_target.fit_transform(y)\n",
        "\n",
        "\n",
        "# Split the dataset into training and testing sets\n",
        "X_train, X_test, y_train, y_test = train_test_split(X, y, test_size=0.2, random_state=42)\n",
        "\n",
        "# Create a pipeline\n",
        "pipeline = Pipeline([\n",
        "    ('imputer_num', SimpleImputer(strategy='median')),\n",
        "    ('scaler', StandardScaler()),\n",
        "    ('classifier', LogisticRegression(random_state=42)),\n",
        "])\n",
        "# Train the model\n",
        "pipeline.fit(X_train, y_train)\n",
        "# Predict on the test set\n",
        "y_pred = pipeline.predict(X_test)\n",
        "# Evaluate the model\n",
        "accuracy = accuracy_score(y_test, y_pred)\n",
        "classification_report_str = classification_report(y_test, y_pred, target_names=le_target.classes_, zero_division=1)\n",
        "# Print results\n",
        "end_time = time.time()\n",
        "\n",
        "prediction_time = end_time - start_time\n",
        "print(\"Prediction Time: {:.2f} seconds\".format(prediction_time))\n",
        "\n",
        "print(\"Logistic Regression Accuracy:\", accuracy)\n",
        "print(\"Classification Report:\\n\", classification_report_str)\n",
        "\n"
      ]
    },
    {
      "cell_type": "code",
      "execution_count": null,
      "metadata": {
        "colab": {
          "base_uri": "https://localhost:8080/",
          "height": 694
        },
        "id": "ievI60d3PVqe",
        "outputId": "35fd5e2c-8685-4fd2-d165-2f5af1dffed3"
      },
      "outputs": [],
      "source": [
        "# Calculate the confusion matrix\n",
        "cm = confusion_matrix(y_test, y_pred)\n",
        "\n",
        "# Transform confusion matrix to DataFrame for Seaborn\n",
        "cm_df = pd.DataFrame(cm, index=le_target.classes_, columns=le_target.classes_)\n",
        "\n",
        "# Plot the confusion matrix\n",
        "plt.figure(figsize=(10, 7))\n",
        "sns.heatmap(cm_df, annot=True, fmt='g', cmap='Blues', cbar=False)\n",
        "plt.title('Confusion Matrix for Logistic Regression')\n",
        "plt.ylabel('Actual Labels')\n",
        "plt.xlabel('Predicted Labels')\n",
        "plt.tight_layout()  # Adjusts plot to ensure everything fits without overlap\n",
        "plt.show()\n"
      ]
    },
    {
      "cell_type": "markdown",
      "metadata": {
        "id": "BF1PSpAHcAD7"
      },
      "source": [
        "<strong><font color=\"#ADD8E6\" style=\"font-size: 32px;\">\n",
        "PERFORMANCE COMPARISON OF EACH MODEL\n",
        "\n",
        "\n",
        "</font></strong>"
      ]
    },
    {
      "cell_type": "code",
      "execution_count": null,
      "metadata": {
        "colab": {
          "base_uri": "https://localhost:8080/",
          "height": 1000
        },
        "id": "V5fZ6gdVQzC-",
        "outputId": "77a502e1-d50e-4649-be0a-219085a45081"
      },
      "outputs": [],
      "source": [
        "\n",
        "# Data for plotting\n",
        "models = ['RandomForestRegressor', 'RandomForestClassifier', 'LogisticRegression']\n",
        "# Assuming R-squared is treated as accuracy for the regressor for visualization purposes\n",
        "accuracies = [0.9973410200234973, 0.9075144508670521, 0.8994219653179191]\n",
        "times = [1.49, 0.82, 0.12]  # Prediction times\n",
        "colors_accuracy = ['lightgreen', 'lightblue', 'lightcoral']  # Colors for the accuracy plot\n",
        "colors_runtime = ['green', 'blue', 'red']  # Colors for the runtime plot\n",
        "\n",
        "# Plot for \"accuracy\"\n",
        "plt.figure(figsize=(10, 6))\n",
        "bars = plt.bar(models, accuracies, color=colors_accuracy)\n",
        "plt.xlabel('Model')\n",
        "plt.ylabel('Accuracy / R-squared')\n",
        "plt.title('Model Accuracy / R-squared Comparison')\n",
        "plt.ylim(0, 1.05)  # Extend a bit above 1 to show R-squared properly\n",
        "for bar in bars:  # Add the data labels on top of each bar\n",
        "    yval = bar.get_height()\n",
        "    plt.text(bar.get_x() + bar.get_width()/2, yval + 0.01, f\"{yval:.2%}\", ha='center', va='bottom')\n",
        "plt.show()\n",
        "\n",
        "# Plot for runtime\n",
        "plt.figure(figsize=(10, 6))\n",
        "bars = plt.bar(models, times, color=colors_runtime)\n",
        "plt.xlabel('Model')\n",
        "plt.ylabel('Prediction Time (seconds)')\n",
        "plt.title('Model Runtime Comparison')\n",
        "plt.ylim(0, max(times) + 0.1)  # Add some space above the tallest bar\n",
        "for bar in bars:  # Add the data labels on top of each bar\n",
        "    yval = bar.get_height()\n",
        "    plt.text(bar.get_x() + bar.get_width()/2, yval + 0.01, f\"{yval:.2f}s\", ha='center', va='bottom')\n",
        "plt.show()\n"
      ]
    },
    {
      "cell_type": "markdown",
      "metadata": {
        "id": "6-bNhBhUwIxd"
      },
      "source": []
    }
  ],
  "metadata": {
    "colab": {
      "provenance": []
    },
    "kernelspec": {
      "display_name": "Python 3",
      "name": "python3"
    },
    "language_info": {
      "codemirror_mode": {
        "name": "ipython",
        "version": 3
      },
      "file_extension": ".py",
      "mimetype": "text/x-python",
      "name": "python",
      "nbconvert_exporter": "python",
      "pygments_lexer": "ipython3",
      "version": "3.11.0"
    }
  },
  "nbformat": 4,
  "nbformat_minor": 0
}
